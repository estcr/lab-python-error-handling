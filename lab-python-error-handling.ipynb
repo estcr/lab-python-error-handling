{
 "cells": [
  {
   "cell_type": "markdown",
   "id": "25d7736c-ba17-4aff-b6bb-66eba20fbf4e",
   "metadata": {},
   "source": [
    "# Lab | Error Handling"
   ]
  },
  {
   "cell_type": "markdown",
   "id": "bc99b386-7508-47a0-bcdb-d969deaf6c8b",
   "metadata": {},
   "source": [
    "## Exercise: Error Handling for Managing Customer Orders\n",
    "\n",
    "The implementation of your code for managing customer orders assumes that the user will always enter a valid input. \n",
    "\n",
    "For example, we could modify the `initialize_inventory` function to include error handling.\n",
    "   - If the user enters an invalid quantity (e.g., a negative value or a non-numeric value), display an error message and ask them to re-enter the quantity for that product.\n",
    "   - Use a try-except block to handle the error and continue prompting the user until a valid quantity is entered.\n",
    "\n",
    "```python\n",
    "# Step 1: Define the function for initializing the inventory with error handling\n",
    "def initialize_inventory(products):\n",
    "    inventory = {}\n",
    "    for product in products:\n",
    "        valid_quantity = False\n",
    "        while not valid_quantity:\n",
    "            try:\n",
    "                quantity = int(input(f\"Enter the quantity of {product}s available: \"))\n",
    "                if quantity < 0:\n",
    "                    raise ValueError(\"Invalid quantity! Please enter a non-negative value.\")\n",
    "                valid_quantity = True\n",
    "            except ValueError as error:\n",
    "                print(f\"Error: {error}\")\n",
    "        inventory[product] = quantity\n",
    "    return inventory\n",
    "\n",
    "# Or, in another way:\n",
    "\n",
    "def initialize_inventory(products):\n",
    "    inventory = {}\n",
    "    for product in products:\n",
    "        valid_input = False\n",
    "        while not valid_input:\n",
    "            try:\n",
    "                quantity = int(input(f\"Enter the quantity of {product}s available: \"))\n",
    "                if quantity >= 0:\n",
    "                    inventory[product] = quantity\n",
    "                    valid_input = True\n",
    "                else:\n",
    "                    print(\"Quantity cannot be negative. Please enter a valid quantity.\")\n",
    "            except ValueError:\n",
    "                print(\"Invalid input. Please enter a valid quantity.\")\n",
    "    return inventory\n",
    "```\n",
    "\n",
    "Let's enhance your code by implementing error handling to handle invalid inputs.\n",
    "\n",
    "Follow the steps below to complete the exercise:\n",
    "\n",
    "2. Modify the `calculate_total_price` function to include error handling.\n",
    "   - If the user enters an invalid price (e.g., a negative value or a non-numeric value), display an error message and ask them to re-enter the price for that product.\n",
    "   - Use a try-except block to handle the error and continue prompting the user until a valid price is entered.\n",
    "\n",
    "3. Modify the `get_customer_orders` function to include error handling.\n",
    "   - If the user enters an invalid number of orders (e.g., a negative value or a non-numeric value), display an error message and ask them to re-enter the number of orders.\n",
    "   - If the user enters an invalid product name (e.g., a product name that is not in the inventory), or that doesn't have stock available, display an error message and ask them to re-enter the product name. *Hint: you will need to pass inventory as a parameter*\n",
    "   - Use a try-except block to handle the error and continue prompting the user until a valid product name is entered.\n",
    "\n",
    "4. Test your code by running the program and deliberately entering invalid quantities and product names. Make sure the error handling mechanism works as expected.\n"
   ]
  },
  {
   "cell_type": "code",
   "execution_count": 6,
   "id": "aca453ff",
   "metadata": {},
   "outputs": [
    {
     "data": {
      "text/plain": [
       "{'sombrero': 5, 'camisetas': 5, 'llavero': 5, 'libro': 5, 'pantalon': 5}"
      ]
     },
     "execution_count": 6,
     "metadata": {},
     "output_type": "execute_result"
    }
   ],
   "source": [
    "products=[\"sombrero\",\"camisetas\", \"llavero\", \"libro\", \"pantalon\"]\n",
    "\n",
    "def initialize_inventory(products):\n",
    "    inventory = {}\n",
    "    for product in products:\n",
    "        valid_input = False\n",
    "        while not valid_input:\n",
    "            try:\n",
    "                quantity = int(input(f\"Enter the quantity of {product} available: \"))\n",
    "                if quantity >= 0:\n",
    "                    inventory[product] = quantity\n",
    "                    valid_input = True\n",
    "                else:\n",
    "                    print(\"Quantity cannot be negative. Please enter a valid quantity.\")\n",
    "            except ValueError:\n",
    "                print(\"Invalid input. Please enter a valid quantity.\")\n",
    "    return inventory\n",
    "\n",
    "\n",
    "inventory= initialize_inventory(products)\n",
    "inventory"
   ]
  },
  {
   "cell_type": "code",
   "execution_count": 9,
   "id": "e2dcd0eb",
   "metadata": {},
   "outputs": [
    {
     "name": "stdout",
     "output_type": "stream",
     "text": [
      "Producto agregado al pedido.\n",
      "Producto agregado al pedido.\n",
      "Tu pedido es: {'llavero', 'libro'}\n"
     ]
    }
   ],
   "source": [
    "def get_customer_orders():\n",
    "    \"\"\"\n",
    "    Función creada para realizar un pedido.\n",
    "    Primero, solicita la cantidad de productos que el usuario quiere pedir.\n",
    "    Luego, pide ingresar productos de una lista predefinida y los agrega a un conjunto de pedidos válidos.\n",
    "    \"\"\"\n",
    "    \n",
    "    while True:\n",
    "        try:\n",
    "            number_of_orders = int(input(\"Por favor ingrese la cantidad de productos que desea pedir: \"))\n",
    "            if number_of_orders <= 0:\n",
    "                print(\"Debe ingresar un número positivo.\")\n",
    "            else:\n",
    "                break\n",
    "        except ValueError:\n",
    "            print(\"Entrada inválida. Por favor, ingrese un número entero positivo.\")\n",
    "    \n",
    "    customer_orders = set()\n",
    "    while len(customer_orders) < number_of_orders:\n",
    "        try:\n",
    "            producto = input(f\"Ingresa el nombre del producto de la siguiente lista {products} para confirmar tu pedido: \")\n",
    "            \n",
    "            if producto in inventory:\n",
    "                customer_orders.add(producto)\n",
    "                print(\"Producto agregado al pedido.\")\n",
    "            else:\n",
    "                print(\"El producto no está en la lista.\")\n",
    "        except ValueError:\n",
    "            print(\"Entrada no válida. Por favor, ingresa un producto válido.\")\n",
    "\n",
    "    return customer_orders\n",
    "\n",
    "\n",
    "customer_orders = get_customer_orders()\n",
    "print(\"Tu pedido es:\", customer_orders)"
   ]
  },
  {
   "cell_type": "code",
   "execution_count": 11,
   "id": "301d81f2",
   "metadata": {},
   "outputs": [
    {
     "name": "stdout",
     "output_type": "stream",
     "text": [
      "Error: el precio no puede ser negativo. Por favor, ingrese un valor positivo.\n",
      "El precio total de tu pedido es: 6.0\n"
     ]
    }
   ],
   "source": [
    "def calculate_total_price(customer_orders):\n",
    "    \"\"\"\n",
    "    Función que solicita al usuario ingresar el precio de cada producto del pedido.\n",
    "    Usa como parametro la orden previamente hecha\n",
    "    Retorna la suma de los  precios de la orden y maneja errores de entrada.\n",
    "    \"\"\"\n",
    "    total_price = 0.0\n",
    "    \n",
    "    for producto in customer_orders:\n",
    "        while True:\n",
    "            try:\n",
    "                price = float(input(f\"Ingrese el precio para '{producto}': \"))\n",
    "                if price < 0:\n",
    "                    print(\"Error: el precio no puede ser negativo. Por favor, ingrese un valor positivo.\")\n",
    "                else:\n",
    "                    total_price += price\n",
    "                    break\n",
    "\n",
    "            except ValueError:\n",
    "                print(\"Error: valor no válido. Por favor, ingrese un número.\")\n",
    "    \n",
    "    return total_price\n",
    "\n",
    "\n",
    "precio_total = calculate_total_price(customer_orders)\n",
    "print(\"El precio total de tu pedido es:\", precio_total)"
   ]
  }
 ],
 "metadata": {
  "kernelspec": {
   "display_name": "Python 3",
   "language": "python",
   "name": "python3"
  },
  "language_info": {
   "codemirror_mode": {
    "name": "ipython",
    "version": 3
   },
   "file_extension": ".py",
   "mimetype": "text/x-python",
   "name": "python",
   "nbconvert_exporter": "python",
   "pygments_lexer": "ipython3",
   "version": "3.11.4"
  }
 },
 "nbformat": 4,
 "nbformat_minor": 5
}
